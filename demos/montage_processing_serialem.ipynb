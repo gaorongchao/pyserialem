{
 "cells": [
  {
   "cell_type": "code",
   "execution_count": null,
   "metadata": {},
   "outputs": [],
   "source": [
    "%load_ext autoreload\n",
    "%autoreload 2"
   ]
  },
  {
   "cell_type": "markdown",
   "metadata": {},
   "source": [
    "# PySerialEM - montaging\n",
    "\n",
    "https://github.com/instamatic-dev/pyserialem\n",
    "\n",
    "This notebook shows how to process a grid montage acquired using `SerialEM`. The data for this demo were collected on a zeolite sample (2020-02-12), using a JEOL JEM-1400 @ 120 kV in combination with a TVIPS F-416 camera. \n",
    "\n",
    "The data are available from zenodo: https://doi.org/10.5281/zenodo.3923718\n",
    "\n",
    "These data were chosen, because the stitching from SerialEM was particularly bad. We will show an example of how `PySerialEM` can be used to try to get a better montage.\n",
    "\n",
    "For this demo to work, change the `work` directory below to point at the right location."
   ]
  },
  {
   "cell_type": "code",
   "execution_count": null,
   "metadata": {},
   "outputs": [],
   "source": [
    "from pyserialem import Montage\n",
    "import numpy as np\n",
    "from pathlib import Path\n",
    "np.set_printoptions(suppress=True)\n",
    "\n",
    "# work directory\n",
    "work = Path(r\"C:\\s\\2020-02-12\\serialem_montage\")\n",
    "work"
   ]
  },
  {
   "cell_type": "markdown",
   "metadata": {},
   "source": [
    "## Setting up the montage\n",
    "\n",
    "Load the `gm.mrc` file and the associated images. For SerialEM data, the gridshape must be specified, because it cannot be obtained from the data or `.mdoc` direction. There are also several parameters to tune the orientation of the images to match them with the input of the stagematrix (if needed). First we must get the coordinate settings to match those of SerialEM. These variables ap"
   ]
  },
  {
   "cell_type": "code",
   "execution_count": null,
   "metadata": {},
   "outputs": [],
   "source": [
    "m = Montage.from_serialem_mrc(\n",
    "    work / 'gm.mrc', \n",
    "    gridshape=(5,5),\n",
    "    direction='updown',\n",
    "    zigzag=True,\n",
    "    flip=False,\n",
    "    image_rot90 = 3,\n",
    "    image_flipud = False,\n",
    "    image_fliplr = True,\n",
    ")\n",
    "\n",
    "m.gridspec"
   ]
  },
  {
   "cell_type": "markdown",
   "metadata": {},
   "source": [
    "First, we can check what the data actually look like. To do so, we can simply `stitch` and `plot` the data using a `binning=4` to conserve a bit of memory. This naively plots the data at the expected positions. Although the stitching is not that great, it's enough to get a feeling for the data.\n",
    "\n",
    "Note that SerialEM includes the pixel coordinates in the `.mdoc` file, so it is not necessary to calculate these again. Instead, the `PieceCoordinates` are mapped to `m.coords`."
   ]
  },
  {
   "cell_type": "code",
   "execution_count": null,
   "metadata": {},
   "outputs": [],
   "source": [
    "# Use `optimized = False` to prevent using the aligned piece coordinates\n",
    "m.stitch(binning=4, optimized=False)\n",
    "m.plot()"
   ]
  },
  {
   "cell_type": "markdown",
   "metadata": {},
   "source": [
    "SerialEM has also already calculated the aligned image coordinates (`AlignedPieceCoordsVS`/`AlignedPieceCoords`). These can be accessed via the `.optimized_coords` attribute. To plot, you can do the following:"
   ]
  },
  {
   "cell_type": "code",
   "execution_count": null,
   "metadata": {},
   "outputs": [],
   "source": [
    "# optimized = True is the default, so it can be left out\n",
    "m.stitch(binning=4, optimized=True)\n",
    "m.plot()\n",
    "\n",
    "montage_serialem = m.stitched  # store reference for later"
   ]
  },
  {
   "cell_type": "markdown",
   "metadata": {},
   "source": [
    "The stitching from SerialEM is particularly bad, so we can try to optimize it using the algorithm in `pyserialem`.\n",
    "First, we must ensure that we entered the gridspec correctly. If the layout of the tiles below does not look right (i.e. similar to above), go back to loading the `Montage` and fiddle with the rotation of the images. The operation below just places the tiles at the positions calculated by `pyserialem`."
   ]
  },
  {
   "cell_type": "code",
   "execution_count": null,
   "metadata": {},
   "outputs": [],
   "source": [
    "m.calculate_montage_coords()\n",
    "m.stitch(binning=4, optimized=False)\n",
    "m.plot()"
   ]
  },
  {
   "cell_type": "markdown",
   "metadata": {},
   "source": [
    "It is still possible to try to get better stitching using the algorithm in `pyserialem`:\n",
    "\n",
    " 1. Better estimate the difference vectors between each tile using cross correlation\n",
    " 2. Optimize the coordinates of the difference vectors using least-squares minimization\n",
    "\n",
    "This approach is based on *Globally optimal stitching of tiled 3D microscopic image acquisitions* by Preibish et al., Bioinformatics 25 (2009), 1463–1465 (https://doi.org/10.1093/bioinformatics/btp184).\n",
    "\n",
    "Some metrics, such as the obtained shifts and FFT scores are plotted to evaluate the stitching."
   ]
  },
  {
   "cell_type": "code",
   "execution_count": null,
   "metadata": {},
   "outputs": [],
   "source": [
    "# Use cross correlation to get difference vectors\n",
    "m.calculate_difference_vectors(\n",
    "    threshold=0.08, \n",
    "#     method='skimage',\n",
    "    plot=False\n",
    ")\n",
    "\n",
    "# plot the fft_scores\n",
    "m.plot_fft_scores()\n",
    "\n",
    "# plot the pixel shifts\n",
    "m.plot_shifts()\n",
    "\n",
    "# get coords optimized using cross correlation\n",
    "m.optimize_montage_coords(plot=True)\n",
    "\n",
    "# stitch image, use binning 4 for speed-up and memory conservation\n",
    "m.stitch(binning=4)\n",
    "\n",
    "# plot the stitched image\n",
    "m.plot()\n",
    "\n",
    "montage_pyserialem = m.stitched  # store reference for later"
   ]
  },
  {
   "cell_type": "markdown",
   "metadata": {},
   "source": [
    "It's not a perfect stitching, but much better than what SerialEM produced! I believe the reason is that SerialEM does some adjustments to the stageposition as it is moving. Below is an example of the same grid map collected with [instamatic](http://github.com/instamatic-dev/instamatic), using the same coordinates and imaging conditions, reconstructed with the same algorithm."
   ]
  },
  {
   "cell_type": "code",
   "execution_count": null,
   "metadata": {},
   "outputs": [],
   "source": [
    "import tifffile\n",
    "import matplotlib.pyplot as plt\n",
    "\n",
    "with tifffile.TiffFile(work / 'stitched_instamatic.tiff') as f:\n",
    "    montage_instamatic = f.asarray()"
   ]
  },
  {
   "cell_type": "code",
   "execution_count": null,
   "metadata": {},
   "outputs": [],
   "source": [
    "fig, (ax0, ax1, ax2) = plt.subplots(ncols=3, figsize=(20,10))\n",
    "\n",
    "ax0.imshow(montage_serialem)\n",
    "ax0.set_title('Data: SerialEM\\n'\n",
    "              'Stitching: SerialEM')\n",
    "\n",
    "ax1.imshow(montage_pyserialem)\n",
    "ax1.set_title('Data: SerialEM\\n'\n",
    "              'Stitching: PySerialEM')\n",
    "\n",
    "ax2.imshow(montage_instamatic)\n",
    "ax2.set_title('Data: Instamatic\\n'\n",
    "              'Stitching: PySerialEM');"
   ]
  },
  {
   "cell_type": "markdown",
   "metadata": {},
   "source": [
    "When the image has been stitched (with or without optimization), we can look for the positions of the grid squares/squircles. \n",
    "\n",
    "First, we should tell `pyserialem` about the imaging conditions by setting the stagematrix to relate the pixelpositions back to stage coordinates. \n",
    "\n",
    "The easiest way to do it is to pass the `StageToCameraMatrix` directly. It can be found in `SerialEMcalibrations.txt`. Look for the last number, which gives the magnification.\n",
    "\n",
    "(They can also be set directly via `.set_stagematrix` and `.set_pixelsize`)"
   ]
  },
  {
   "cell_type": "code",
   "execution_count": null,
   "metadata": {},
   "outputs": [],
   "source": [
    "StageToCameraMatrix = \"StageToCameraMatrix 10 0 8.797544 0.052175 0.239726 8.460119   0.741238   100\"\n",
    "m.set_stagematrix_from_serialem_calib(StageToCameraMatrix)\n",
    "\n",
    "m.stagematrix"
   ]
  },
  {
   "cell_type": "markdown",
   "metadata": {},
   "source": [
    "This also sets the pixelsize."
   ]
  },
  {
   "cell_type": "code",
   "execution_count": null,
   "metadata": {},
   "outputs": [],
   "source": [
    "m.pixelsize"
   ]
  },
  {
   "cell_type": "markdown",
   "metadata": {},
   "source": [
    "To find the holes, call the method `.find_holes`. The grid squares are identified as objects roughly sized `diameter` with a tolerance of 10%. The median as well as 5/95 percentiles are printed to evaluate the hole size distribution. By default the `otsu` method is used to define the threshold, but the threshold can be changed if the segmentation looks poor."
   ]
  },
  {
   "cell_type": "code",
   "execution_count": null,
   "metadata": {},
   "outputs": [],
   "source": [
    "stagecoords, imagecoords = m.find_holes(\n",
    "    plot=True, \n",
    "    tolerance=0.2)"
   ]
  },
  {
   "cell_type": "markdown",
   "metadata": {},
   "source": [
    "IF a `.nav` file was saved, the stage coordinates can be added and read back into `SerialEM`."
   ]
  },
  {
   "cell_type": "code",
   "execution_count": null,
   "metadata": {},
   "outputs": [],
   "source": [
    "from pyserialem import read_nav_file, write_nav_file\n",
    "\n",
    "nav = read_nav_file(work / \"nav.nav\")\n",
    "map_item = nav[0]\n",
    "items = map_item.add_marker_group(coords=stagecoords/1000, kind='stage')\n",
    "write_nav_file(\"nav_new.nav\", map_item, *items)"
   ]
  },
  {
   "cell_type": "markdown",
   "metadata": {},
   "source": [
    "It is possible to optimize the stage coordinates for more efficient navigation. In this example, the total stage movement can be reduced by about 75%, which will save a lot of time. The function uses the _two-opt_ algorithm for finding the shortest path: https://en.wikipedia.org/wiki/2-opt."
   ]
  },
  {
   "cell_type": "code",
   "execution_count": null,
   "metadata": {},
   "outputs": [],
   "source": [
    "from pyserialem.navigation import sort_nav_items_by_shortest_path\n",
    "\n",
    "stagecoords = sort_nav_items_by_shortest_path(\n",
    "    stagecoords, \n",
    "    plot=True\n",
    ")"
   ]
  },
  {
   "cell_type": "markdown",
   "metadata": {},
   "source": [
    "We can re-run the command (or set the `threshold` to something like `0.01`) to try to get a better path. In this case it's possible to improve it a little bit more."
   ]
  },
  {
   "cell_type": "code",
   "execution_count": null,
   "metadata": {},
   "outputs": [],
   "source": [
    "stagecoords = sort_nav_items_by_shortest_path(\n",
    "    stagecoords, \n",
    "    threshold=0.01,\n",
    "    plot=True\n",
    ")"
   ]
  },
  {
   "cell_type": "code",
   "execution_count": null,
   "metadata": {},
   "outputs": [],
   "source": []
  }
 ],
 "metadata": {
  "kernelspec": {
   "display_name": "Python 3",
   "language": "python",
   "name": "python3"
  },
  "language_info": {
   "codemirror_mode": {
    "name": "ipython",
    "version": 3
   },
   "file_extension": ".py",
   "mimetype": "text/x-python",
   "name": "python",
   "nbconvert_exporter": "python",
   "pygments_lexer": "ipython3",
   "version": "3.8.3"
  }
 },
 "nbformat": 4,
 "nbformat_minor": 2
}
